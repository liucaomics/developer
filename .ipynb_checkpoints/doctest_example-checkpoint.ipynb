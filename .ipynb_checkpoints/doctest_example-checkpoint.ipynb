{
 "cells": [
  {
   "cell_type": "markdown",
   "metadata": {},
   "source": [
    "# doctest tutorial\n",
    "There are two types of test:\n",
    "* doc at the beginning of youscript.py\n",
    "* doc at each function"
   ]
  },
  {
   "cell_type": "code",
   "execution_count": 1,
   "metadata": {},
   "outputs": [],
   "source": [
    "def factorial(n):\n",
    "    '''\n",
    "    a function returns n!\n",
    "    >>> [factorial(i) for i in range(1,5,1)]\n",
    "    [1,2,6,24]\n",
    "    \n",
    "    '''\n",
    "    if n<0:\n",
    "        raise ValueError(\"n must be positive\")\n",
    "    if not isinstance(n,int):\n",
    "        raise ValueError(\"n must be integer\")\n",
    "    if n == n+1:\n",
    "        raise OverflowError(\"n is too large\")\n",
    "    out = 1\n",
    "    for i in range(1,n+1,1):\n",
    "        out *= i\n",
    "    return out"
   ]
  },
  {
   "cell_type": "markdown",
   "metadata": {},
   "source": []
  },
  {
   "cell_type": "code",
   "execution_count": 2,
   "metadata": {},
   "outputs": [
    {
     "data": {
      "text/plain": [
       "1"
      ]
     },
     "execution_count": 2,
     "metadata": {},
     "output_type": "execute_result"
    }
   ],
   "source": [
    "factorial(1)"
   ]
  }
 ],
 "metadata": {
  "kernelspec": {
   "display_name": "Python 3",
   "language": "python",
   "name": "python3"
  },
  "language_info": {
   "codemirror_mode": {
    "name": "ipython",
    "version": 3
   },
   "file_extension": ".py",
   "mimetype": "text/x-python",
   "name": "python",
   "nbconvert_exporter": "python",
   "pygments_lexer": "ipython3",
   "version": "3.7.3"
  }
 },
 "nbformat": 4,
 "nbformat_minor": 2
}
