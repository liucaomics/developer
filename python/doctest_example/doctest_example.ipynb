{
 "cells": [
  {
   "cell_type": "markdown",
   "metadata": {},
   "source": [
    "# doctest notes\n",
    "There are 3 types of doctest in python:\n",
    "* doctest at the beginning of a script as a docstring\n",
    "* doctest at each function as a docstring\n",
    "* doctest in a separate file\n",
    "\n",
    "## doctest at the beginning of  a script as a doctring\n",
    "e.g. doctest_example.py\n",
    "\n",
    "**python doctest_example.py** will output nothing if all the test pass<br/>\n",
    "**python doctest_example.py -v** will output details of testing"
   ]
  },
  {
   "cell_type": "code",
   "execution_count": null,
   "metadata": {},
   "outputs": [],
   "source": [
    "with open(\"doctest_example.py\",'r') as fr:\n",
    "    lines = fr.readlines()\n",
    "    for line in lines:\n",
    "        print(line.strip())"
   ]
  },
  {
   "cell_type": "markdown",
   "metadata": {},
   "source": [
    "## doctest at each function as a docstring\n",
    "e.g."
   ]
  },
  {
   "cell_type": "code",
   "execution_count": 14,
   "metadata": {},
   "outputs": [],
   "source": [
    "def factorial(n):\n",
    "    '''\n",
    "    a function returns n!\n",
    "    >>> [factorial(i) for i in range(1,5,1)]\n",
    "    [1, 2, 6, 24]\n",
    "    \n",
    "    >>> factorial(0)\n",
    "    Traceback (most recent call last):\n",
    "        ...\n",
    "    ValueError: n must be positive\n",
    "    \n",
    "    >>> factorial(1e300)\n",
    "    Traceback (most recent call last):\n",
    "        File \"<stdin>\", line 1, in <module>\n",
    "        File \"<stdin>\", line 19, in factorial\n",
    "    ValueError: n must be integer\n",
    "\n",
    "    >>> factorial(1.1)\n",
    "    Traceback (most recent call last):\n",
    "        File \"<stdin>\", line 1, in <module>\n",
    "        File \"<stdin>\", line 19, in factorial\n",
    "    ValueError: n must be integer\n",
    "\n",
    "    '''\n",
    "    if n<0:\n",
    "        raise ValueError(\"n must be positive\")\n",
    "    if not isinstance(n,int):\n",
    "        raise ValueError(\"n must be integer\")\n",
    "    if n == n+1:\n",
    "        raise OverflowError(\"n is too large\")\n",
    "    out = 1\n",
    "    for i in range(1,n+1,1):\n",
    "        out *= i\n",
    "    return out"
   ]
  },
  {
   "cell_type": "markdown",
   "metadata": {},
   "source": [
    "## doctest in a separate file\n",
    "e.g. test.txt\n",
    "\n",
    "In **doctest_example.py**, use **doctest.testfile(\"test.txt\")** instead of **doctest.testmod()**"
   ]
  }
 ],
 "metadata": {
  "kernelspec": {
   "display_name": "Python 3",
   "language": "python",
   "name": "python3"
  },
  "language_info": {
   "codemirror_mode": {
    "name": "ipython",
    "version": 3
   },
   "file_extension": ".py",
   "mimetype": "text/x-python",
   "name": "python",
   "nbconvert_exporter": "python",
   "pygments_lexer": "ipython3",
   "version": "3.7.3"
  }
 },
 "nbformat": 4,
 "nbformat_minor": 2
}
